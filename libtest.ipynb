{
 "cells": [
  {
   "cell_type": "code",
   "execution_count": 1,
   "id": "295c8c57",
   "metadata": {},
   "outputs": [],
   "source": [
    "import pokebase as pb"
   ]
  },
  {
   "cell_type": "code",
   "execution_count": 2,
   "id": "36dfbfad",
   "metadata": {},
   "outputs": [
    {
     "data": {
      "text/plain": [
       "'chesto'"
      ]
     },
     "execution_count": 2,
     "metadata": {},
     "output_type": "execute_result"
    }
   ],
   "source": [
    "chesto = pb.APIResource('berry', 'chesto')\n",
    "chesto.name"
   ]
  },
  {
   "cell_type": "code",
   "execution_count": null,
   "id": "a07f6324",
   "metadata": {},
   "outputs": [],
   "source": [
    "pb.ability('overgrow')"
   ]
  }
 ],
 "metadata": {
  "kernelspec": {
   "display_name": "poke",
   "language": "python",
   "name": "python3"
  },
  "language_info": {
   "codemirror_mode": {
    "name": "ipython",
    "version": 3
   },
   "file_extension": ".py",
   "mimetype": "text/x-python",
   "name": "python",
   "nbconvert_exporter": "python",
   "pygments_lexer": "ipython3",
   "version": "3.13.2"
  }
 },
 "nbformat": 4,
 "nbformat_minor": 5
}
